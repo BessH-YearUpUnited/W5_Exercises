{
 "cells": [
  {
   "cell_type": "code",
   "execution_count": 2,
   "id": "9227cc33-b141-472b-acbe-10165ad314c3",
   "metadata": {},
   "outputs": [
    {
     "name": "stdout",
     "output_type": "stream",
     "text": [
      "hello world\n"
     ]
    }
   ],
   "source": [
    "print('hello world')"
   ]
  },
  {
   "cell_type": "code",
   "execution_count": 3,
   "id": "1a1e2e14-3d84-408a-818a-826b4d40aec7",
   "metadata": {},
   "outputs": [],
   "source": [
    "message = 'hello'"
   ]
  },
  {
   "cell_type": "code",
   "execution_count": 4,
   "id": "03c96bfc-44c4-43f2-b751-a82af452dee3",
   "metadata": {},
   "outputs": [
    {
     "name": "stdout",
     "output_type": "stream",
     "text": [
      "hello\n"
     ]
    }
   ],
   "source": [
    "print(message)"
   ]
  },
  {
   "cell_type": "code",
   "execution_count": 5,
   "id": "8808c5ac-8731-4ef5-a702-a6c45f324a47",
   "metadata": {},
   "outputs": [
    {
     "data": {
      "text/plain": [
       "'hello'"
      ]
     },
     "execution_count": 5,
     "metadata": {},
     "output_type": "execute_result"
    }
   ],
   "source": [
    "message"
   ]
  },
  {
   "cell_type": "code",
   "execution_count": null,
   "id": "4adf87cb-0f6e-49b2-b455-052a2996148a",
   "metadata": {},
   "outputs": [],
   "source": []
  }
 ],
 "metadata": {
  "kernelspec": {
   "display_name": "Python 3 (ipykernel)",
   "language": "python",
   "name": "python3"
  },
  "language_info": {
   "codemirror_mode": {
    "name": "ipython",
    "version": 3
   },
   "file_extension": ".py",
   "mimetype": "text/x-python",
   "name": "python",
   "nbconvert_exporter": "python",
   "pygments_lexer": "ipython3",
   "version": "3.12.3"
  }
 },
 "nbformat": 4,
 "nbformat_minor": 5
}
